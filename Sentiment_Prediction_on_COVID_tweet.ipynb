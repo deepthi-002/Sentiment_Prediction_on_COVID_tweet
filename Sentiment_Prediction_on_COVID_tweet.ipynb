{
 "cells": [
  {
   "cell_type": "code",
   "execution_count": null,
   "id": "c303ff8c",
   "metadata": {
    "id": "c303ff8c"
   },
   "outputs": [],
   "source": [
    "import pandas as pd\n",
    "import numpy  as np\n",
    "import matplotlib.pyplot as plt\n",
    "import seaborn as sns"
   ]
  },
  {
   "cell_type": "code",
   "execution_count": null,
   "id": "68913113",
   "metadata": {
    "id": "68913113"
   },
   "outputs": [],
   "source": [
    "df = pd.read_csv(r\"/content/Corona_NLP.csv\", encoding='latin1')"
   ]
  },
  {
   "cell_type": "code",
   "execution_count": null,
   "id": "1fd42d61",
   "metadata": {
    "colab": {
     "base_uri": "https://localhost:8080/",
     "height": 250
    },
    "executionInfo": {
     "elapsed": 44,
     "status": "ok",
     "timestamp": 1659622549207,
     "user": {
      "displayName": "DEEPTHI S",
      "userId": "07261982077999867741"
     },
     "user_tz": -330
    },
    "id": "1fd42d61",
    "outputId": "79c19e74-604a-4b18-abc8-532dd0f5e89c"
   },
   "outputs": [
    {
     "data": {
      "text/html": [
       "\n",
       "  <div id=\"df-041f3eb6-2674-4e87-8f21-ab7df8374cb5\">\n",
       "    <div class=\"colab-df-container\">\n",
       "      <div>\n",
       "<style scoped>\n",
       "    .dataframe tbody tr th:only-of-type {\n",
       "        vertical-align: middle;\n",
       "    }\n",
       "\n",
       "    .dataframe tbody tr th {\n",
       "        vertical-align: top;\n",
       "    }\n",
       "\n",
       "    .dataframe thead th {\n",
       "        text-align: right;\n",
       "    }\n",
       "</style>\n",
       "<table border=\"1\" class=\"dataframe\">\n",
       "  <thead>\n",
       "    <tr style=\"text-align: right;\">\n",
       "      <th></th>\n",
       "      <th>UserName</th>\n",
       "      <th>ScreenName</th>\n",
       "      <th>Location</th>\n",
       "      <th>TweetAt</th>\n",
       "      <th>OriginalTweet</th>\n",
       "      <th>Sentiment</th>\n",
       "    </tr>\n",
       "  </thead>\n",
       "  <tbody>\n",
       "    <tr>\n",
       "      <th>0</th>\n",
       "      <td>3799</td>\n",
       "      <td>48751</td>\n",
       "      <td>London</td>\n",
       "      <td>16-03-2020</td>\n",
       "      <td>@MeNyrbie @Phil_Gahan @Chrisitv https://t.co/i...</td>\n",
       "      <td>Neutral</td>\n",
       "    </tr>\n",
       "    <tr>\n",
       "      <th>1</th>\n",
       "      <td>3800</td>\n",
       "      <td>48752</td>\n",
       "      <td>UK</td>\n",
       "      <td>16-03-2020</td>\n",
       "      <td>advice Talk to your neighbours family to excha...</td>\n",
       "      <td>Positive</td>\n",
       "    </tr>\n",
       "    <tr>\n",
       "      <th>2</th>\n",
       "      <td>3801</td>\n",
       "      <td>48753</td>\n",
       "      <td>Vagabonds</td>\n",
       "      <td>16-03-2020</td>\n",
       "      <td>Coronavirus Australia: Woolworths to give elde...</td>\n",
       "      <td>Positive</td>\n",
       "    </tr>\n",
       "    <tr>\n",
       "      <th>3</th>\n",
       "      <td>3802</td>\n",
       "      <td>48754</td>\n",
       "      <td>NaN</td>\n",
       "      <td>16-03-2020</td>\n",
       "      <td>My food stock is not the only one which is emp...</td>\n",
       "      <td>Positive</td>\n",
       "    </tr>\n",
       "    <tr>\n",
       "      <th>4</th>\n",
       "      <td>3803</td>\n",
       "      <td>48755</td>\n",
       "      <td>NaN</td>\n",
       "      <td>16-03-2020</td>\n",
       "      <td>Me, ready to go at supermarket during the #COV...</td>\n",
       "      <td>Extremely Negative</td>\n",
       "    </tr>\n",
       "  </tbody>\n",
       "</table>\n",
       "</div>\n",
       "      <button class=\"colab-df-convert\" onclick=\"convertToInteractive('df-041f3eb6-2674-4e87-8f21-ab7df8374cb5')\"\n",
       "              title=\"Convert this dataframe to an interactive table.\"\n",
       "              style=\"display:none;\">\n",
       "        \n",
       "  <svg xmlns=\"http://www.w3.org/2000/svg\" height=\"24px\"viewBox=\"0 0 24 24\"\n",
       "       width=\"24px\">\n",
       "    <path d=\"M0 0h24v24H0V0z\" fill=\"none\"/>\n",
       "    <path d=\"M18.56 5.44l.94 2.06.94-2.06 2.06-.94-2.06-.94-.94-2.06-.94 2.06-2.06.94zm-11 1L8.5 8.5l.94-2.06 2.06-.94-2.06-.94L8.5 2.5l-.94 2.06-2.06.94zm10 10l.94 2.06.94-2.06 2.06-.94-2.06-.94-.94-2.06-.94 2.06-2.06.94z\"/><path d=\"M17.41 7.96l-1.37-1.37c-.4-.4-.92-.59-1.43-.59-.52 0-1.04.2-1.43.59L10.3 9.45l-7.72 7.72c-.78.78-.78 2.05 0 2.83L4 21.41c.39.39.9.59 1.41.59.51 0 1.02-.2 1.41-.59l7.78-7.78 2.81-2.81c.8-.78.8-2.07 0-2.86zM5.41 20L4 18.59l7.72-7.72 1.47 1.35L5.41 20z\"/>\n",
       "  </svg>\n",
       "      </button>\n",
       "      \n",
       "  <style>\n",
       "    .colab-df-container {\n",
       "      display:flex;\n",
       "      flex-wrap:wrap;\n",
       "      gap: 12px;\n",
       "    }\n",
       "\n",
       "    .colab-df-convert {\n",
       "      background-color: #E8F0FE;\n",
       "      border: none;\n",
       "      border-radius: 50%;\n",
       "      cursor: pointer;\n",
       "      display: none;\n",
       "      fill: #1967D2;\n",
       "      height: 32px;\n",
       "      padding: 0 0 0 0;\n",
       "      width: 32px;\n",
       "    }\n",
       "\n",
       "    .colab-df-convert:hover {\n",
       "      background-color: #E2EBFA;\n",
       "      box-shadow: 0px 1px 2px rgba(60, 64, 67, 0.3), 0px 1px 3px 1px rgba(60, 64, 67, 0.15);\n",
       "      fill: #174EA6;\n",
       "    }\n",
       "\n",
       "    [theme=dark] .colab-df-convert {\n",
       "      background-color: #3B4455;\n",
       "      fill: #D2E3FC;\n",
       "    }\n",
       "\n",
       "    [theme=dark] .colab-df-convert:hover {\n",
       "      background-color: #434B5C;\n",
       "      box-shadow: 0px 1px 3px 1px rgba(0, 0, 0, 0.15);\n",
       "      filter: drop-shadow(0px 1px 2px rgba(0, 0, 0, 0.3));\n",
       "      fill: #FFFFFF;\n",
       "    }\n",
       "  </style>\n",
       "\n",
       "      <script>\n",
       "        const buttonEl =\n",
       "          document.querySelector('#df-041f3eb6-2674-4e87-8f21-ab7df8374cb5 button.colab-df-convert');\n",
       "        buttonEl.style.display =\n",
       "          google.colab.kernel.accessAllowed ? 'block' : 'none';\n",
       "\n",
       "        async function convertToInteractive(key) {\n",
       "          const element = document.querySelector('#df-041f3eb6-2674-4e87-8f21-ab7df8374cb5');\n",
       "          const dataTable =\n",
       "            await google.colab.kernel.invokeFunction('convertToInteractive',\n",
       "                                                     [key], {});\n",
       "          if (!dataTable) return;\n",
       "\n",
       "          const docLinkHtml = 'Like what you see? Visit the ' +\n",
       "            '<a target=\"_blank\" href=https://colab.research.google.com/notebooks/data_table.ipynb>data table notebook</a>'\n",
       "            + ' to learn more about interactive tables.';\n",
       "          element.innerHTML = '';\n",
       "          dataTable['output_type'] = 'display_data';\n",
       "          await google.colab.output.renderOutput(dataTable, element);\n",
       "          const docLink = document.createElement('div');\n",
       "          docLink.innerHTML = docLinkHtml;\n",
       "          element.appendChild(docLink);\n",
       "        }\n",
       "      </script>\n",
       "    </div>\n",
       "  </div>\n",
       "  "
      ],
      "text/plain": [
       "   UserName  ScreenName   Location     TweetAt  \\\n",
       "0      3799       48751     London  16-03-2020   \n",
       "1      3800       48752         UK  16-03-2020   \n",
       "2      3801       48753  Vagabonds  16-03-2020   \n",
       "3      3802       48754        NaN  16-03-2020   \n",
       "4      3803       48755        NaN  16-03-2020   \n",
       "\n",
       "                                       OriginalTweet           Sentiment  \n",
       "0  @MeNyrbie @Phil_Gahan @Chrisitv https://t.co/i...             Neutral  \n",
       "1  advice Talk to your neighbours family to excha...            Positive  \n",
       "2  Coronavirus Australia: Woolworths to give elde...            Positive  \n",
       "3  My food stock is not the only one which is emp...            Positive  \n",
       "4  Me, ready to go at supermarket during the #COV...  Extremely Negative  "
      ]
     },
     "execution_count": 3,
     "metadata": {},
     "output_type": "execute_result"
    }
   ],
   "source": [
    "df.head()"
   ]
  },
  {
   "cell_type": "code",
   "execution_count": null,
   "id": "ca0b0b9f",
   "metadata": {
    "id": "ca0b0b9f"
   },
   "outputs": [],
   "source": [
    "df1 = df.copy()"
   ]
  },
  {
   "cell_type": "code",
   "execution_count": null,
   "id": "08e3fec8",
   "metadata": {
    "id": "08e3fec8"
   },
   "outputs": [],
   "source": [
    "df1.dropna(inplace=True)"
   ]
  },
  {
   "cell_type": "code",
   "execution_count": null,
   "id": "f8f8197b",
   "metadata": {
    "colab": {
     "base_uri": "https://localhost:8080/"
    },
    "executionInfo": {
     "elapsed": 36,
     "status": "ok",
     "timestamp": 1659622549209,
     "user": {
      "displayName": "DEEPTHI S",
      "userId": "07261982077999867741"
     },
     "user_tz": -330
    },
    "id": "f8f8197b",
    "outputId": "3d7e2e46-1dfb-46f1-a884-82993868e4bb"
   },
   "outputs": [
    {
     "data": {
      "text/plain": [
       "(32567, 6)"
      ]
     },
     "execution_count": 6,
     "metadata": {},
     "output_type": "execute_result"
    }
   ],
   "source": [
    "df1.shape"
   ]
  },
  {
   "cell_type": "code",
   "execution_count": null,
   "id": "1044926b",
   "metadata": {
    "id": "1044926b"
   },
   "outputs": [],
   "source": [
    "df1.drop(['UserName','ScreenName','Location','TweetAt'],axis=1,inplace=True)"
   ]
  },
  {
   "cell_type": "code",
   "execution_count": null,
   "id": "8677845c",
   "metadata": {
    "colab": {
     "base_uri": "https://localhost:8080/",
     "height": 206
    },
    "executionInfo": {
     "elapsed": 26,
     "status": "ok",
     "timestamp": 1659622549210,
     "user": {
      "displayName": "DEEPTHI S",
      "userId": "07261982077999867741"
     },
     "user_tz": -330
    },
    "id": "8677845c",
    "outputId": "79c06c28-929c-4768-ea17-983842fae49c"
   },
   "outputs": [
    {
     "data": {
      "text/html": [
       "\n",
       "  <div id=\"df-e5982984-33fe-44e9-a761-541c66ce9882\">\n",
       "    <div class=\"colab-df-container\">\n",
       "      <div>\n",
       "<style scoped>\n",
       "    .dataframe tbody tr th:only-of-type {\n",
       "        vertical-align: middle;\n",
       "    }\n",
       "\n",
       "    .dataframe tbody tr th {\n",
       "        vertical-align: top;\n",
       "    }\n",
       "\n",
       "    .dataframe thead th {\n",
       "        text-align: right;\n",
       "    }\n",
       "</style>\n",
       "<table border=\"1\" class=\"dataframe\">\n",
       "  <thead>\n",
       "    <tr style=\"text-align: right;\">\n",
       "      <th></th>\n",
       "      <th>OriginalTweet</th>\n",
       "      <th>Sentiment</th>\n",
       "    </tr>\n",
       "  </thead>\n",
       "  <tbody>\n",
       "    <tr>\n",
       "      <th>0</th>\n",
       "      <td>@MeNyrbie @Phil_Gahan @Chrisitv https://t.co/i...</td>\n",
       "      <td>Neutral</td>\n",
       "    </tr>\n",
       "    <tr>\n",
       "      <th>1</th>\n",
       "      <td>advice Talk to your neighbours family to excha...</td>\n",
       "      <td>Positive</td>\n",
       "    </tr>\n",
       "    <tr>\n",
       "      <th>2</th>\n",
       "      <td>Coronavirus Australia: Woolworths to give elde...</td>\n",
       "      <td>Positive</td>\n",
       "    </tr>\n",
       "    <tr>\n",
       "      <th>5</th>\n",
       "      <td>As news of the regionÂs first confirmed COVID...</td>\n",
       "      <td>Positive</td>\n",
       "    </tr>\n",
       "    <tr>\n",
       "      <th>6</th>\n",
       "      <td>Cashier at grocery store was sharing his insig...</td>\n",
       "      <td>Positive</td>\n",
       "    </tr>\n",
       "  </tbody>\n",
       "</table>\n",
       "</div>\n",
       "      <button class=\"colab-df-convert\" onclick=\"convertToInteractive('df-e5982984-33fe-44e9-a761-541c66ce9882')\"\n",
       "              title=\"Convert this dataframe to an interactive table.\"\n",
       "              style=\"display:none;\">\n",
       "        \n",
       "  <svg xmlns=\"http://www.w3.org/2000/svg\" height=\"24px\"viewBox=\"0 0 24 24\"\n",
       "       width=\"24px\">\n",
       "    <path d=\"M0 0h24v24H0V0z\" fill=\"none\"/>\n",
       "    <path d=\"M18.56 5.44l.94 2.06.94-2.06 2.06-.94-2.06-.94-.94-2.06-.94 2.06-2.06.94zm-11 1L8.5 8.5l.94-2.06 2.06-.94-2.06-.94L8.5 2.5l-.94 2.06-2.06.94zm10 10l.94 2.06.94-2.06 2.06-.94-2.06-.94-.94-2.06-.94 2.06-2.06.94z\"/><path d=\"M17.41 7.96l-1.37-1.37c-.4-.4-.92-.59-1.43-.59-.52 0-1.04.2-1.43.59L10.3 9.45l-7.72 7.72c-.78.78-.78 2.05 0 2.83L4 21.41c.39.39.9.59 1.41.59.51 0 1.02-.2 1.41-.59l7.78-7.78 2.81-2.81c.8-.78.8-2.07 0-2.86zM5.41 20L4 18.59l7.72-7.72 1.47 1.35L5.41 20z\"/>\n",
       "  </svg>\n",
       "      </button>\n",
       "      \n",
       "  <style>\n",
       "    .colab-df-container {\n",
       "      display:flex;\n",
       "      flex-wrap:wrap;\n",
       "      gap: 12px;\n",
       "    }\n",
       "\n",
       "    .colab-df-convert {\n",
       "      background-color: #E8F0FE;\n",
       "      border: none;\n",
       "      border-radius: 50%;\n",
       "      cursor: pointer;\n",
       "      display: none;\n",
       "      fill: #1967D2;\n",
       "      height: 32px;\n",
       "      padding: 0 0 0 0;\n",
       "      width: 32px;\n",
       "    }\n",
       "\n",
       "    .colab-df-convert:hover {\n",
       "      background-color: #E2EBFA;\n",
       "      box-shadow: 0px 1px 2px rgba(60, 64, 67, 0.3), 0px 1px 3px 1px rgba(60, 64, 67, 0.15);\n",
       "      fill: #174EA6;\n",
       "    }\n",
       "\n",
       "    [theme=dark] .colab-df-convert {\n",
       "      background-color: #3B4455;\n",
       "      fill: #D2E3FC;\n",
       "    }\n",
       "\n",
       "    [theme=dark] .colab-df-convert:hover {\n",
       "      background-color: #434B5C;\n",
       "      box-shadow: 0px 1px 3px 1px rgba(0, 0, 0, 0.15);\n",
       "      filter: drop-shadow(0px 1px 2px rgba(0, 0, 0, 0.3));\n",
       "      fill: #FFFFFF;\n",
       "    }\n",
       "  </style>\n",
       "\n",
       "      <script>\n",
       "        const buttonEl =\n",
       "          document.querySelector('#df-e5982984-33fe-44e9-a761-541c66ce9882 button.colab-df-convert');\n",
       "        buttonEl.style.display =\n",
       "          google.colab.kernel.accessAllowed ? 'block' : 'none';\n",
       "\n",
       "        async function convertToInteractive(key) {\n",
       "          const element = document.querySelector('#df-e5982984-33fe-44e9-a761-541c66ce9882');\n",
       "          const dataTable =\n",
       "            await google.colab.kernel.invokeFunction('convertToInteractive',\n",
       "                                                     [key], {});\n",
       "          if (!dataTable) return;\n",
       "\n",
       "          const docLinkHtml = 'Like what you see? Visit the ' +\n",
       "            '<a target=\"_blank\" href=https://colab.research.google.com/notebooks/data_table.ipynb>data table notebook</a>'\n",
       "            + ' to learn more about interactive tables.';\n",
       "          element.innerHTML = '';\n",
       "          dataTable['output_type'] = 'display_data';\n",
       "          await google.colab.output.renderOutput(dataTable, element);\n",
       "          const docLink = document.createElement('div');\n",
       "          docLink.innerHTML = docLinkHtml;\n",
       "          element.appendChild(docLink);\n",
       "        }\n",
       "      </script>\n",
       "    </div>\n",
       "  </div>\n",
       "  "
      ],
      "text/plain": [
       "                                       OriginalTweet Sentiment\n",
       "0  @MeNyrbie @Phil_Gahan @Chrisitv https://t.co/i...   Neutral\n",
       "1  advice Talk to your neighbours family to excha...  Positive\n",
       "2  Coronavirus Australia: Woolworths to give elde...  Positive\n",
       "5  As news of the regionÂs first confirmed COVID...  Positive\n",
       "6  Cashier at grocery store was sharing his insig...  Positive"
      ]
     },
     "execution_count": 8,
     "metadata": {},
     "output_type": "execute_result"
    }
   ],
   "source": [
    "df1.head()"
   ]
  },
  {
   "cell_type": "code",
   "execution_count": null,
   "id": "d4a9059b",
   "metadata": {
    "colab": {
     "base_uri": "https://localhost:8080/"
    },
    "executionInfo": {
     "elapsed": 22,
     "status": "ok",
     "timestamp": 1659622549210,
     "user": {
      "displayName": "DEEPTHI S",
      "userId": "07261982077999867741"
     },
     "user_tz": -330
    },
    "id": "d4a9059b",
    "outputId": "35a91e75-ccb9-4720-dbdb-7587298ad3fe"
   },
   "outputs": [
    {
     "data": {
      "text/plain": [
       "5"
      ]
     },
     "execution_count": 9,
     "metadata": {},
     "output_type": "execute_result"
    }
   ],
   "source": [
    "df1['Sentiment'].nunique()"
   ]
  },
  {
   "cell_type": "code",
   "execution_count": null,
   "id": "856e677a",
   "metadata": {
    "colab": {
     "base_uri": "https://localhost:8080/"
    },
    "executionInfo": {
     "elapsed": 19,
     "status": "ok",
     "timestamp": 1659622549211,
     "user": {
      "displayName": "DEEPTHI S",
      "userId": "07261982077999867741"
     },
     "user_tz": -330
    },
    "id": "856e677a",
    "outputId": "6378fe51-d4bb-43fb-d09d-1794d992cd56"
   },
   "outputs": [
    {
     "data": {
      "text/plain": [
       "Positive              9110\n",
       "Negative              7763\n",
       "Neutral               6172\n",
       "Extremely Positive    5273\n",
       "Extremely Negative    4249\n",
       "Name: Sentiment, dtype: int64"
      ]
     },
     "execution_count": 10,
     "metadata": {},
     "output_type": "execute_result"
    }
   ],
   "source": [
    "df1['Sentiment'].value_counts()"
   ]
  },
  {
   "cell_type": "code",
   "execution_count": null,
   "id": "V3DXgvZVLMdB",
   "metadata": {
    "id": "V3DXgvZVLMdB"
   },
   "outputs": [],
   "source": [
    "df1.loc[df['Sentiment']=='Extremely Positive','Sentiment'] = 'Positive'\n",
    "df1.loc[df['Sentiment']=='Extremely Negative','Sentiment'] = 'Negative'"
   ]
  },
  {
   "cell_type": "code",
   "execution_count": null,
   "id": "Rq3x4S6VLdOH",
   "metadata": {
    "colab": {
     "base_uri": "https://localhost:8080/"
    },
    "executionInfo": {
     "elapsed": 16,
     "status": "ok",
     "timestamp": 1659622549211,
     "user": {
      "displayName": "DEEPTHI S",
      "userId": "07261982077999867741"
     },
     "user_tz": -330
    },
    "id": "Rq3x4S6VLdOH",
    "outputId": "6aee29c7-d64d-4e9c-e76e-2cf0542e2dd9"
   },
   "outputs": [
    {
     "data": {
      "text/plain": [
       "Positive    14383\n",
       "Negative    12012\n",
       "Neutral      6172\n",
       "Name: Sentiment, dtype: int64"
      ]
     },
     "execution_count": 12,
     "metadata": {},
     "output_type": "execute_result"
    }
   ],
   "source": [
    "df1['Sentiment'].value_counts()"
   ]
  },
  {
   "cell_type": "code",
   "execution_count": null,
   "id": "fd1ff58a",
   "metadata": {
    "id": "fd1ff58a"
   },
   "outputs": [],
   "source": [
    "import nltk\n",
    "import string\n",
    "from nltk.corpus import stopwords\n",
    "from nltk.tokenize import RegexpTokenizer\n",
    "from nltk.stem import WordNetLemmatizer\n",
    "from nltk.stem.porter import PorterStemmer"
   ]
  },
  {
   "cell_type": "code",
   "execution_count": null,
   "id": "18d06dac",
   "metadata": {
    "id": "18d06dac"
   },
   "outputs": [],
   "source": [
    "def remove_punctuation(text):\n",
    "    no_punct = \"\".join([c for c in text if c not in string.punctuation])\n",
    "    return no_punct"
   ]
  },
  {
   "cell_type": "code",
   "execution_count": null,
   "id": "2563b7e9",
   "metadata": {
    "colab": {
     "base_uri": "https://localhost:8080/"
    },
    "executionInfo": {
     "elapsed": 421,
     "status": "ok",
     "timestamp": 1659622550668,
     "user": {
      "displayName": "DEEPTHI S",
      "userId": "07261982077999867741"
     },
     "user_tz": -330
    },
    "id": "2563b7e9",
    "outputId": "db5834b1-80b0-40b6-bd41-8e39eb261451"
   },
   "outputs": [
    {
     "data": {
      "text/plain": [
       "0    MeNyrbie PhilGahan Chrisitv httpstcoiFz9FAn2Pa...\n",
       "1    advice Talk to your neighbours family to excha...\n",
       "2    Coronavirus Australia Woolworths to give elder...\n",
       "5    As news of the regionÂs first confirmed COVID...\n",
       "6    Cashier at grocery store was sharing his insig...\n",
       "Name: OriginalTweet, dtype: object"
      ]
     },
     "execution_count": 15,
     "metadata": {},
     "output_type": "execute_result"
    }
   ],
   "source": [
    "df1['OriginalTweet'] = df1['OriginalTweet'].apply(lambda x: remove_punctuation(x))\n",
    "df1['OriginalTweet'].head()"
   ]
  },
  {
   "cell_type": "code",
   "execution_count": null,
   "id": "d3c5f3f5",
   "metadata": {
    "colab": {
     "base_uri": "https://localhost:8080/"
    },
    "executionInfo": {
     "elapsed": 654,
     "status": "ok",
     "timestamp": 1659622551318,
     "user": {
      "displayName": "DEEPTHI S",
      "userId": "07261982077999867741"
     },
     "user_tz": -330
    },
    "id": "d3c5f3f5",
    "outputId": "85623792-0bf2-41b1-81d1-bc8e6eb681bd"
   },
   "outputs": [
    {
     "data": {
      "text/plain": [
       "0    [menyrbie, philgahan, chrisitv, httpstcoifz9fa...\n",
       "1    [advice, talk, to, your, neighbours, family, t...\n",
       "2    [coronavirus, australia, woolworths, to, give,...\n",
       "5    [as, news, of, the, regionâ, s, first, confirm...\n",
       "6    [cashier, at, grocery, store, was, sharing, hi...\n",
       "Name: OriginalTweet, dtype: object"
      ]
     },
     "execution_count": 16,
     "metadata": {},
     "output_type": "execute_result"
    }
   ],
   "source": [
    "tokenizer = RegexpTokenizer(r'\\w+')\n",
    "df1['OriginalTweet'] = df1['OriginalTweet'].apply(lambda x: tokenizer.tokenize(x.lower()))\n",
    "df1['OriginalTweet'].head()"
   ]
  },
  {
   "cell_type": "code",
   "execution_count": null,
   "id": "7e80f859",
   "metadata": {
    "id": "7e80f859"
   },
   "outputs": [],
   "source": [
    "lemmatizer = WordNetLemmatizer()\n",
    "\n",
    "def word_lemmatizer(text):\n",
    "    lem_text = [lemmatizer.lemmatize(i) for i in text]\n",
    "    return lem_text"
   ]
  },
  {
   "cell_type": "code",
   "execution_count": null,
   "id": "13872061",
   "metadata": {
    "colab": {
     "base_uri": "https://localhost:8080/"
    },
    "executionInfo": {
     "elapsed": 5943,
     "status": "ok",
     "timestamp": 1659622593520,
     "user": {
      "displayName": "DEEPTHI S",
      "userId": "07261982077999867741"
     },
     "user_tz": -330
    },
    "id": "13872061",
    "outputId": "563cdef7-8ea7-4b14-9772-5cf5cacd2e81"
   },
   "outputs": [
    {
     "data": {
      "text/plain": [
       "0    [menyrbie, philgahan, chrisitv, httpstcoifz9fa...\n",
       "1    [advice, talk, to, your, neighbour, family, to...\n",
       "2    [coronavirus, australia, woolworth, to, give, ...\n",
       "5    [a, news, of, the, regionâ, s, first, confirme...\n",
       "6    [cashier, at, grocery, store, wa, sharing, his...\n",
       "Name: OriginalTweet, dtype: object"
      ]
     },
     "execution_count": 20,
     "metadata": {},
     "output_type": "execute_result"
    }
   ],
   "source": [
    "df1['OriginalTweet'] = df1['OriginalTweet'].apply(lambda x: word_lemmatizer(x))\n",
    "df1['OriginalTweet'].head()"
   ]
  },
  {
   "cell_type": "code",
   "execution_count": null,
   "id": "F0UjutmrHk_a",
   "metadata": {
    "colab": {
     "base_uri": "https://localhost:8080/"
    },
    "executionInfo": {
     "elapsed": 421,
     "status": "ok",
     "timestamp": 1659622577325,
     "user": {
      "displayName": "DEEPTHI S",
      "userId": "07261982077999867741"
     },
     "user_tz": -330
    },
    "id": "F0UjutmrHk_a",
    "outputId": "59425c12-6bd9-4910-c294-70e189336091"
   },
   "outputs": [
    {
     "name": "stderr",
     "output_type": "stream",
     "text": [
      "[nltk_data] Downloading package wordnet to /root/nltk_data...\n",
      "[nltk_data] Downloading package omw-1.4 to /root/nltk_data...\n"
     ]
    },
    {
     "data": {
      "text/plain": [
       "True"
      ]
     },
     "execution_count": 19,
     "metadata": {},
     "output_type": "execute_result"
    }
   ],
   "source": [
    "nltk.download(\"wordnet\")\n",
    "nltk.download(\"omw-1.4\")"
   ]
  },
  {
   "cell_type": "code",
   "execution_count": null,
   "id": "161d3587",
   "metadata": {
    "id": "161d3587"
   },
   "outputs": [],
   "source": [
    "stemmer = PorterStemmer()\n",
    "\n",
    "def word_stemmer(text):\n",
    "    stem_text = \" \".join([stemmer.stem(i) for i in text])\n",
    "    return stem_text"
   ]
  },
  {
   "cell_type": "code",
   "execution_count": null,
   "id": "e01eea1a",
   "metadata": {
    "colab": {
     "base_uri": "https://localhost:8080/"
    },
    "executionInfo": {
     "elapsed": 15984,
     "status": "ok",
     "timestamp": 1659622619516,
     "user": {
      "displayName": "DEEPTHI S",
      "userId": "07261982077999867741"
     },
     "user_tz": -330
    },
    "id": "e01eea1a",
    "outputId": "bd6d2632-5b18-4dd8-d03f-e1dbb085c49c"
   },
   "outputs": [
    {
     "data": {
      "text/plain": [
       "0        menyrbi philgahan chrisitv httpstcoifz9fan2pa ...\n",
       "1        advic talk to your neighbour famili to exchang...\n",
       "2        coronaviru australia woolworth to give elderli...\n",
       "5        a news of the regionâ s first confirm covid19 ...\n",
       "6        cashier at groceri store wa share hi insight o...\n",
       "                               ...                        \n",
       "41147    yâ all realli shit that much more at home covi...\n",
       "41149    still shock by the number of toronto supermark...\n",
       "41150    i never that weâ d be in a situat amp world th...\n",
       "41152    airlin pilot offer to stock supermarket shelf ...\n",
       "41156    tartiicat well newus rift s are go for 70000 o...\n",
       "Name: OriginalTweet, Length: 32567, dtype: object"
      ]
     },
     "execution_count": 22,
     "metadata": {},
     "output_type": "execute_result"
    }
   ],
   "source": [
    "df1['OriginalTweet'] = df1['OriginalTweet'].apply(lambda x: word_stemmer(x))\n",
    "df1['OriginalTweet']"
   ]
  },
  {
   "cell_type": "code",
   "execution_count": null,
   "id": "3244948d",
   "metadata": {
    "id": "3244948d"
   },
   "outputs": [],
   "source": [
    "x = df1['OriginalTweet']\n",
    "y = df1['Sentiment']"
   ]
  },
  {
   "cell_type": "code",
   "execution_count": null,
   "id": "17ef7808",
   "metadata": {
    "id": "17ef7808"
   },
   "outputs": [],
   "source": [
    "from sklearn.model_selection import train_test_split"
   ]
  },
  {
   "cell_type": "code",
   "execution_count": null,
   "id": "6f4198ce",
   "metadata": {
    "id": "6f4198ce"
   },
   "outputs": [],
   "source": [
    "X_train,X_test,y_train,y_test = train_test_split(x,y,test_size=0.3,random_state=101)"
   ]
  },
  {
   "cell_type": "code",
   "execution_count": null,
   "id": "d6b51ffb",
   "metadata": {
    "colab": {
     "base_uri": "https://localhost:8080/"
    },
    "executionInfo": {
     "elapsed": 8,
     "status": "ok",
     "timestamp": 1659622636717,
     "user": {
      "displayName": "DEEPTHI S",
      "userId": "07261982077999867741"
     },
     "user_tz": -330
    },
    "id": "d6b51ffb",
    "outputId": "a7312d0d-ecb7-4d1e-f2c6-a278a66880cf"
   },
   "outputs": [
    {
     "data": {
      "text/plain": [
       "(22796,)"
      ]
     },
     "execution_count": 26,
     "metadata": {},
     "output_type": "execute_result"
    }
   ],
   "source": [
    "X_train.shape"
   ]
  },
  {
   "cell_type": "code",
   "execution_count": null,
   "id": "00d9078c",
   "metadata": {
    "colab": {
     "base_uri": "https://localhost:8080/"
    },
    "executionInfo": {
     "elapsed": 426,
     "status": "ok",
     "timestamp": 1659622639574,
     "user": {
      "displayName": "DEEPTHI S",
      "userId": "07261982077999867741"
     },
     "user_tz": -330
    },
    "id": "00d9078c",
    "outputId": "86a57ae7-228e-41f3-9236-9111f30eecc8"
   },
   "outputs": [
    {
     "data": {
      "text/plain": [
       "(22796,)"
      ]
     },
     "execution_count": 27,
     "metadata": {},
     "output_type": "execute_result"
    }
   ],
   "source": [
    "y_train.shape"
   ]
  },
  {
   "cell_type": "code",
   "execution_count": null,
   "id": "37c778d7",
   "metadata": {
    "colab": {
     "base_uri": "https://localhost:8080/"
    },
    "executionInfo": {
     "elapsed": 419,
     "status": "ok",
     "timestamp": 1659622642489,
     "user": {
      "displayName": "DEEPTHI S",
      "userId": "07261982077999867741"
     },
     "user_tz": -330
    },
    "id": "37c778d7",
    "outputId": "ccb1f740-0f89-4da2-eee9-82296a51b1f3"
   },
   "outputs": [
    {
     "data": {
      "text/plain": [
       "(9771,)"
      ]
     },
     "execution_count": 28,
     "metadata": {},
     "output_type": "execute_result"
    }
   ],
   "source": [
    "X_test.shape"
   ]
  },
  {
   "cell_type": "code",
   "execution_count": null,
   "id": "514e81e5",
   "metadata": {
    "colab": {
     "base_uri": "https://localhost:8080/"
    },
    "executionInfo": {
     "elapsed": 471,
     "status": "ok",
     "timestamp": 1659622650833,
     "user": {
      "displayName": "DEEPTHI S",
      "userId": "07261982077999867741"
     },
     "user_tz": -330
    },
    "id": "514e81e5",
    "outputId": "5488b861-f5e5-4a49-f590-2ef42487ce21"
   },
   "outputs": [
    {
     "data": {
      "text/plain": [
       "(9771,)"
      ]
     },
     "execution_count": 29,
     "metadata": {},
     "output_type": "execute_result"
    }
   ],
   "source": [
    "y_test.shape"
   ]
  },
  {
   "cell_type": "code",
   "execution_count": null,
   "id": "199e13a3",
   "metadata": {
    "id": "199e13a3"
   },
   "outputs": [],
   "source": [
    "from sklearn.svm import SVC\n",
    "from sklearn.neighbors import KNeighborsClassifier\n",
    "from sklearn.naive_bayes import MultinomialNB\n",
    "from sklearn.feature_extraction.text import CountVectorizer"
   ]
  },
  {
   "cell_type": "code",
   "execution_count": null,
   "id": "4058d94a",
   "metadata": {
    "id": "4058d94a"
   },
   "outputs": [],
   "source": [
    "from sklearn.pipeline import Pipeline"
   ]
  },
  {
   "cell_type": "code",
   "execution_count": null,
   "id": "02623061",
   "metadata": {
    "id": "02623061"
   },
   "outputs": [],
   "source": [
    "count_vectorizer = CountVectorizer(stop_words='english')"
   ]
  },
  {
   "cell_type": "code",
   "execution_count": null,
   "id": "8c0e837e",
   "metadata": {
    "id": "8c0e837e"
   },
   "outputs": [],
   "source": []
  },
  {
   "cell_type": "code",
   "execution_count": null,
   "id": "33e40283",
   "metadata": {
    "id": "33e40283"
   },
   "outputs": [],
   "source": [
    "my_pipeline = Pipeline(steps=[('CountVectorizer', CountVectorizer()),\n",
    "                        ('Model', SVC())])"
   ]
  },
  {
   "cell_type": "code",
   "execution_count": null,
   "id": "2e8ddb5b",
   "metadata": {
    "colab": {
     "base_uri": "https://localhost:8080/"
    },
    "executionInfo": {
     "elapsed": 265520,
     "status": "ok",
     "timestamp": 1659622934609,
     "user": {
      "displayName": "DEEPTHI S",
      "userId": "07261982077999867741"
     },
     "user_tz": -330
    },
    "id": "2e8ddb5b",
    "outputId": "3e49c9e9-5b40-45bc-8a44-fa721269d880"
   },
   "outputs": [
    {
     "data": {
      "text/plain": [
       "Pipeline(steps=[('CountVectorizer', CountVectorizer()), ('Model', SVC())])"
      ]
     },
     "execution_count": 34,
     "metadata": {},
     "output_type": "execute_result"
    }
   ],
   "source": [
    "my_pipeline.fit(X_train,y_train)"
   ]
  },
  {
   "cell_type": "code",
   "execution_count": null,
   "id": "QAFdLK_bLqba",
   "metadata": {
    "id": "QAFdLK_bLqba"
   },
   "outputs": [],
   "source": [
    "pred1 = my_pipeline.predict(X_test)"
   ]
  },
  {
   "cell_type": "code",
   "execution_count": null,
   "id": "ACC0yhngMHMg",
   "metadata": {
    "colab": {
     "base_uri": "https://localhost:8080/"
    },
    "executionInfo": {
     "elapsed": 520,
     "status": "ok",
     "timestamp": 1659622999427,
     "user": {
      "displayName": "DEEPTHI S",
      "userId": "07261982077999867741"
     },
     "user_tz": -330
    },
    "id": "ACC0yhngMHMg",
    "outputId": "f5863d5f-314b-466a-cdec-51b05a78c7f2"
   },
   "outputs": [
    {
     "name": "stdout",
     "output_type": "stream",
     "text": [
      "classification_report               precision    recall  f1-score   support\n",
      "\n",
      "    Negative       0.74      0.76      0.75      3502\n",
      "     Neutral       0.59      0.64      0.62      1698\n",
      "    Positive       0.80      0.76      0.78      4571\n",
      "\n",
      "    accuracy                           0.74      9771\n",
      "   macro avg       0.71      0.72      0.71      9771\n",
      "weighted avg       0.74      0.74      0.74      9771\n",
      "\n",
      "Confusion Matrix [[2652  289  561]\n",
      " [ 311 1087  300]\n",
      " [ 634  460 3477]]\n",
      "Accuracy_score 0.7385119230375601\n"
     ]
    }
   ],
   "source": [
    "from sklearn.metrics import classification_report,confusion_matrix,accuracy_score\n",
    "print(\"classification_report\",classification_report(pred1,y_test))\n",
    "print(\"Confusion Matrix\", confusion_matrix(pred1,y_test))\n",
    "print(\"Accuracy_score\", accuracy_score(pred1,y_test))"
   ]
  },
  {
   "cell_type": "code",
   "execution_count": null,
   "id": "TW2HTWD3MJup",
   "metadata": {
    "id": "TW2HTWD3MJup"
   },
   "outputs": [],
   "source": [
    "my_pipeline2 = Pipeline(steps=[('Countvectorizer', CountVectorizer()),\n",
    "                               ('Model', MultinomialNB())])"
   ]
  },
  {
   "cell_type": "code",
   "execution_count": null,
   "id": "iG-br9XZMcU4",
   "metadata": {
    "colab": {
     "base_uri": "https://localhost:8080/"
    },
    "executionInfo": {
     "elapsed": 643,
     "status": "ok",
     "timestamp": 1659623039616,
     "user": {
      "displayName": "DEEPTHI S",
      "userId": "07261982077999867741"
     },
     "user_tz": -330
    },
    "id": "iG-br9XZMcU4",
    "outputId": "1e9dc873-4d21-4633-fce7-e58250fd8a7d"
   },
   "outputs": [
    {
     "data": {
      "text/plain": [
       "Pipeline(steps=[('Countvectorizer', CountVectorizer()),\n",
       "                ('Model', MultinomialNB())])"
      ]
     },
     "execution_count": 38,
     "metadata": {},
     "output_type": "execute_result"
    }
   ],
   "source": [
    "my_pipeline2.fit(X_train,y_train)"
   ]
  },
  {
   "cell_type": "code",
   "execution_count": null,
   "id": "TmvTh05EMgMe",
   "metadata": {
    "id": "TmvTh05EMgMe"
   },
   "outputs": [],
   "source": [
    "pred2 = my_pipeline2.predict(X_test)"
   ]
  },
  {
   "cell_type": "code",
   "execution_count": null,
   "id": "6nNXJPoiMocm",
   "metadata": {
    "colab": {
     "base_uri": "https://localhost:8080/"
    },
    "executionInfo": {
     "elapsed": 501,
     "status": "ok",
     "timestamp": 1659623055333,
     "user": {
      "displayName": "DEEPTHI S",
      "userId": "07261982077999867741"
     },
     "user_tz": -330
    },
    "id": "6nNXJPoiMocm",
    "outputId": "7b53d2f0-bffe-4f48-cfca-29e4b1441b76"
   },
   "outputs": [
    {
     "name": "stdout",
     "output_type": "stream",
     "text": [
      "classification_report               precision    recall  f1-score   support\n",
      "\n",
      "    Negative       0.73      0.67      0.70      3906\n",
      "     Neutral       0.11      0.77      0.20       270\n",
      "    Positive       0.82      0.64      0.72      5595\n",
      "\n",
      "    accuracy                           0.66      9771\n",
      "   macro avg       0.56      0.69      0.54      9771\n",
      "weighted avg       0.77      0.66      0.70      9771\n",
      "\n",
      "Confusion Matrix [[2624  550  732]\n",
      " [  28  208   34]\n",
      " [ 945 1078 3572]]\n",
      "Accuracy_score 0.6554088629618258\n"
     ]
    }
   ],
   "source": [
    "\n",
    "print(\"classification_report\",classification_report(pred2,y_test))\n",
    "print(\"Confusion Matrix\", confusion_matrix(pred2,y_test))\n",
    "print(\"Accuracy_score\", accuracy_score(pred2,y_test))"
   ]
  },
  {
   "cell_type": "code",
   "execution_count": null,
   "id": "w8yyYCFOMuXr",
   "metadata": {
    "id": "w8yyYCFOMuXr"
   },
   "outputs": [],
   "source": [
    "my_pipeline3 = Pipeline(steps=[('Countvectorizer', CountVectorizer()),\n",
    "                               ('Model', KNeighborsClassifier())])"
   ]
  },
  {
   "cell_type": "code",
   "execution_count": null,
   "id": "UbGEKJBKNQFC",
   "metadata": {
    "colab": {
     "base_uri": "https://localhost:8080/"
    },
    "executionInfo": {
     "elapsed": 260415,
     "status": "ok",
     "timestamp": 1659623338179,
     "user": {
      "displayName": "DEEPTHI S",
      "userId": "07261982077999867741"
     },
     "user_tz": -330
    },
    "id": "UbGEKJBKNQFC",
    "outputId": "cb817536-c764-4cd5-f274-7ac16da82aa0"
   },
   "outputs": [
    {
     "data": {
      "text/plain": [
       "Pipeline(steps=[('CountVectorizer', CountVectorizer()), ('Model', SVC())])"
      ]
     },
     "execution_count": 42,
     "metadata": {},
     "output_type": "execute_result"
    }
   ],
   "source": [
    "my_pipeline.fit(X_train,y_train)"
   ]
  },
  {
   "cell_type": "code",
   "execution_count": null,
   "id": "V-2sq9CYNZ8Z",
   "metadata": {
    "id": "V-2sq9CYNZ8Z"
   },
   "outputs": [],
   "source": [
    "pred3 = my_pipeline.predict(X_test)"
   ]
  },
  {
   "cell_type": "code",
   "execution_count": null,
   "id": "_omfnpfANkMc",
   "metadata": {
    "colab": {
     "base_uri": "https://localhost:8080/"
    },
    "executionInfo": {
     "elapsed": 520,
     "status": "ok",
     "timestamp": 1659623404121,
     "user": {
      "displayName": "DEEPTHI S",
      "userId": "07261982077999867741"
     },
     "user_tz": -330
    },
    "id": "_omfnpfANkMc",
    "outputId": "61e6ab7a-3641-4cb3-b398-e2498654fba8"
   },
   "outputs": [
    {
     "name": "stdout",
     "output_type": "stream",
     "text": [
      "classification_report               precision    recall  f1-score   support\n",
      "\n",
      "    Negative       0.74      0.76      0.75      3502\n",
      "     Neutral       0.59      0.64      0.62      1698\n",
      "    Positive       0.80      0.76      0.78      4571\n",
      "\n",
      "    accuracy                           0.74      9771\n",
      "   macro avg       0.71      0.72      0.71      9771\n",
      "weighted avg       0.74      0.74      0.74      9771\n",
      "\n",
      "Confusion Matrix [[2652  289  561]\n",
      " [ 311 1087  300]\n",
      " [ 634  460 3477]]\n",
      "Accuracy_score 0.7385119230375601\n"
     ]
    }
   ],
   "source": [
    "\n",
    "print(\"classification_report\",classification_report(pred3,y_test))\n",
    "print(\"Confusion Matrix\", confusion_matrix(pred3,y_test))\n",
    "print(\"Accuracy_score\", accuracy_score(pred3,y_test))"
   ]
  },
  {
   "cell_type": "code",
   "execution_count": null,
   "id": "eJtJjXpONs6k",
   "metadata": {
    "id": "eJtJjXpONs6k"
   },
   "outputs": [],
   "source": [
    "from sklearn.linear_model import LogisticRegression\n"
   ]
  },
  {
   "cell_type": "code",
   "execution_count": null,
   "id": "XrVkDxRzPTsX",
   "metadata": {
    "id": "XrVkDxRzPTsX"
   },
   "outputs": [],
   "source": [
    "my_pipeline4 = Pipeline(steps=[('CountVectorizer', CountVectorizer()),\n",
    "                               ('Model', LogisticRegression())])"
   ]
  },
  {
   "cell_type": "code",
   "execution_count": null,
   "id": "tSiwcwHlPhhJ",
   "metadata": {
    "colab": {
     "base_uri": "https://localhost:8080/"
    },
    "executionInfo": {
     "elapsed": 5278,
     "status": "ok",
     "timestamp": 1659623424438,
     "user": {
      "displayName": "DEEPTHI S",
      "userId": "07261982077999867741"
     },
     "user_tz": -330
    },
    "id": "tSiwcwHlPhhJ",
    "outputId": "878aa070-0abe-40c9-ec05-4ef4da03b747"
   },
   "outputs": [
    {
     "name": "stderr",
     "output_type": "stream",
     "text": [
      "/usr/local/lib/python3.7/dist-packages/sklearn/linear_model/_logistic.py:818: ConvergenceWarning: lbfgs failed to converge (status=1):\n",
      "STOP: TOTAL NO. of ITERATIONS REACHED LIMIT.\n",
      "\n",
      "Increase the number of iterations (max_iter) or scale the data as shown in:\n",
      "    https://scikit-learn.org/stable/modules/preprocessing.html\n",
      "Please also refer to the documentation for alternative solver options:\n",
      "    https://scikit-learn.org/stable/modules/linear_model.html#logistic-regression\n",
      "  extra_warning_msg=_LOGISTIC_SOLVER_CONVERGENCE_MSG,\n"
     ]
    },
    {
     "data": {
      "text/plain": [
       "Pipeline(steps=[('CountVectorizer', CountVectorizer()),\n",
       "                ('Model', LogisticRegression())])"
      ]
     },
     "execution_count": 47,
     "metadata": {},
     "output_type": "execute_result"
    }
   ],
   "source": [
    "my_pipeline4.fit(X_train,y_train)"
   ]
  },
  {
   "cell_type": "code",
   "execution_count": null,
   "id": "EcW-GKtiPmAv",
   "metadata": {
    "id": "EcW-GKtiPmAv"
   },
   "outputs": [],
   "source": [
    "pred4 = my_pipeline4.predict(X_test)"
   ]
  },
  {
   "cell_type": "code",
   "execution_count": null,
   "id": "47t4d_gSP4Z-",
   "metadata": {
    "colab": {
     "base_uri": "https://localhost:8080/"
    },
    "executionInfo": {
     "elapsed": 688,
     "status": "ok",
     "timestamp": 1659623434934,
     "user": {
      "displayName": "DEEPTHI S",
      "userId": "07261982077999867741"
     },
     "user_tz": -330
    },
    "id": "47t4d_gSP4Z-",
    "outputId": "c634651d-aa35-4639-89a4-af211ee722fb"
   },
   "outputs": [
    {
     "name": "stdout",
     "output_type": "stream",
     "text": [
      "classification_report               precision    recall  f1-score   support\n",
      "\n",
      "    Negative       0.80      0.80      0.80      3578\n",
      "     Neutral       0.68      0.68      0.68      1818\n",
      "    Positive       0.83      0.82      0.82      4375\n",
      "\n",
      "    accuracy                           0.79      9771\n",
      "   macro avg       0.77      0.77      0.77      9771\n",
      "weighted avg       0.79      0.79      0.79      9771\n",
      "\n",
      "Confusion Matrix [[2861  261  456]\n",
      " [ 285 1241  292]\n",
      " [ 451  334 3590]]\n",
      "Accuracy_score 0.7872275099785079\n"
     ]
    }
   ],
   "source": [
    "print(\"classification_report\",classification_report(pred4,y_test))\n",
    "print(\"Confusion Matrix\", confusion_matrix(pred4,y_test))\n",
    "print(\"Accuracy_score\", accuracy_score(pred4,y_test))"
   ]
  },
  {
   "cell_type": "code",
   "execution_count": null,
   "id": "Ssfv9CyFVvk8",
   "metadata": {
    "id": "Ssfv9CyFVvk8"
   },
   "outputs": [],
   "source": [
    "from sklearn.ensemble import RandomForestClassifier"
   ]
  },
  {
   "cell_type": "code",
   "execution_count": null,
   "id": "AFfPJkPYV2w3",
   "metadata": {
    "id": "AFfPJkPYV2w3"
   },
   "outputs": [],
   "source": [
    "my_pipeline5 = Pipeline(steps=[('Countvectorizer', CountVectorizer()),\n",
    "                               ('Model', RandomForestClassifier())])"
   ]
  },
  {
   "cell_type": "code",
   "execution_count": null,
   "id": "Od2B5NSnWXSl",
   "metadata": {
    "colab": {
     "base_uri": "https://localhost:8080/"
    },
    "executionInfo": {
     "elapsed": 57352,
     "status": "ok",
     "timestamp": 1659623506310,
     "user": {
      "displayName": "DEEPTHI S",
      "userId": "07261982077999867741"
     },
     "user_tz": -330
    },
    "id": "Od2B5NSnWXSl",
    "outputId": "788d66bb-0c85-4142-fed6-3af858d68583"
   },
   "outputs": [
    {
     "data": {
      "text/plain": [
       "Pipeline(steps=[('Countvectorizer', CountVectorizer()),\n",
       "                ('Model', RandomForestClassifier())])"
      ]
     },
     "execution_count": 52,
     "metadata": {},
     "output_type": "execute_result"
    }
   ],
   "source": [
    "my_pipeline5.fit(X_train,y_train)"
   ]
  },
  {
   "cell_type": "code",
   "execution_count": null,
   "id": "5VTjF9WZWcWz",
   "metadata": {
    "id": "5VTjF9WZWcWz"
   },
   "outputs": [],
   "source": [
    "pred5 = my_pipeline5.predict(X_test)"
   ]
  },
  {
   "cell_type": "code",
   "execution_count": null,
   "id": "L-Nq5Y9OWyDK",
   "metadata": {
    "colab": {
     "base_uri": "https://localhost:8080/"
    },
    "executionInfo": {
     "elapsed": 622,
     "status": "ok",
     "timestamp": 1659623515323,
     "user": {
      "displayName": "DEEPTHI S",
      "userId": "07261982077999867741"
     },
     "user_tz": -330
    },
    "id": "L-Nq5Y9OWyDK",
    "outputId": "51b6edf3-e2e9-4f38-a9d5-e00358715e00"
   },
   "outputs": [
    {
     "name": "stdout",
     "output_type": "stream",
     "text": [
      "classification_report               precision    recall  f1-score   support\n",
      "\n",
      "    Negative       0.67      0.75      0.71      3187\n",
      "     Neutral       0.49      0.70      0.58      1279\n",
      "    Positive       0.83      0.68      0.75      5305\n",
      "\n",
      "    accuracy                           0.71      9771\n",
      "   macro avg       0.66      0.71      0.68      9771\n",
      "weighted avg       0.73      0.71      0.71      9771\n",
      "\n",
      "Confusion Matrix [[2402  251  534]\n",
      " [ 172  897  210]\n",
      " [1023  688 3594]]\n",
      "Accuracy_score 0.7054549176133457\n"
     ]
    }
   ],
   "source": [
    "print(\"classification_report\",classification_report(pred5,y_test))\n",
    "print(\"Confusion Matrix\", confusion_matrix(pred5,y_test))\n",
    "print(\"Accuracy_score\", accuracy_score(pred5,y_test))"
   ]
  },
  {
   "cell_type": "markdown",
   "id": "iZdiu7elSXww",
   "metadata": {
    "id": "iZdiu7elSXww"
   },
   "source": [
    "SVC : 73%\n",
    "Multinominal Naive Bayes : 65%\n",
    "KNN : 73%\n",
    "Higher Accuracy was notched up SVC and KNN by 73%."
   ]
  },
  {
   "cell_type": "code",
   "execution_count": null,
   "id": "Vkbn7SSGUK15",
   "metadata": {
    "id": "Vkbn7SSGUK15"
   },
   "outputs": [],
   "source": [
    "import pickle"
   ]
  },
  {
   "cell_type": "code",
   "execution_count": null,
   "id": "_6hyVsEGWZbY",
   "metadata": {
    "id": "_6hyVsEGWZbY"
   },
   "outputs": [],
   "source": [
    "import joblib"
   ]
  },
  {
   "cell_type": "code",
   "execution_count": null,
   "id": "6WXYMvYGWe-f",
   "metadata": {
    "colab": {
     "base_uri": "https://localhost:8080/"
    },
    "executionInfo": {
     "elapsed": 619,
     "status": "ok",
     "timestamp": 1659624917807,
     "user": {
      "displayName": "DEEPTHI S",
      "userId": "07261982077999867741"
     },
     "user_tz": -330
    },
    "id": "6WXYMvYGWe-f",
    "outputId": "72e57492-f8d0-4589-bc5c-46a9a7edc8f9"
   },
   "outputs": [
    {
     "data": {
      "text/plain": [
       "['Best Model']"
      ]
     },
     "execution_count": 68,
     "metadata": {},
     "output_type": "execute_result"
    }
   ],
   "source": [
    "joblib.dump(my_pipeline,'Best Model')"
   ]
  },
  {
   "cell_type": "code",
   "execution_count": null,
   "id": "ftzs1xGxWrPZ",
   "metadata": {
    "id": "ftzs1xGxWrPZ"
   },
   "outputs": [],
   "source": [
    "test = joblib.load(\"/content/Best Model\")"
   ]
  },
  {
   "cell_type": "code",
   "execution_count": null,
   "id": "srHQ3YFIW79u",
   "metadata": {
    "colab": {
     "base_uri": "https://localhost:8080/"
    },
    "executionInfo": {
     "elapsed": 477,
     "status": "ok",
     "timestamp": 1659625038702,
     "user": {
      "displayName": "DEEPTHI S",
      "userId": "07261982077999867741"
     },
     "user_tz": -330
    },
    "id": "srHQ3YFIW79u",
    "outputId": "e3b9aae9-685e-436b-a915-11b8952438bc"
   },
   "outputs": [
    {
     "data": {
      "text/plain": [
       "array(['Neutral'], dtype=object)"
      ]
     },
     "execution_count": 71,
     "metadata": {},
     "output_type": "execute_result"
    }
   ],
   "source": [
    "test.predict(['I have good immune'])"
   ]
  },
  {
   "cell_type": "code",
   "execution_count": null,
   "id": "XgAO29cJYTs4",
   "metadata": {
    "id": "XgAO29cJYTs4"
   },
   "outputs": [],
   "source": [
    "with open ('Best Model','wb') as f:\n",
    "  pickle.dump(my_pipeline,f)"
   ]
  },
  {
   "cell_type": "code",
   "execution_count": null,
   "id": "EdYcMmU_Ymbt",
   "metadata": {
    "id": "EdYcMmU_Ymbt"
   },
   "outputs": [],
   "source": [
    "with open('Best Model','rb') as f:\n",
    "  a=pickle.load (f)"
   ]
  }
 ],
 "metadata": {
  "accelerator": "GPU",
  "colab": {
   "collapsed_sections": [],
   "name": "Corona_NLP.ipynb",
   "provenance": []
  },
  "gpuClass": "standard",
  "kernelspec": {
   "display_name": "Python 3 (ipykernel)",
   "language": "python",
   "name": "python3"
  },
  "language_info": {
   "codemirror_mode": {
    "name": "ipython",
    "version": 3
   },
   "file_extension": ".py",
   "mimetype": "text/x-python",
   "name": "python",
   "nbconvert_exporter": "python",
   "pygments_lexer": "ipython3",
   "version": "3.9.7"
  }
 },
 "nbformat": 4,
 "nbformat_minor": 5
}
